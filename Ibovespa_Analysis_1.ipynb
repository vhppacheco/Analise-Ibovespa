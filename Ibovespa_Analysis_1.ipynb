{
  "nbformat": 4,
  "nbformat_minor": 0,
  "metadata": {
    "colab": {
      "name": "Ibovespa_Analysis_1.ipynb",
      "private_outputs": true,
      "provenance": [],
      "collapsed_sections": [],
      "include_colab_link": true
    },
    "kernelspec": {
      "name": "python3",
      "display_name": "Python 3"
    },
    "language_info": {
      "name": "python"
    }
  },
  "cells": [
    {
      "cell_type": "markdown",
      "metadata": {
        "id": "view-in-github",
        "colab_type": "text"
      },
      "source": [
        "<a href=\"https://colab.research.google.com/github/vhppacheco/Analise-Ibovespa/blob/main/Ibovespa_Analysis_1.ipynb\" target=\"_parent\"><img src=\"https://colab.research.google.com/assets/colab-badge.svg\" alt=\"Open In Colab\"/></a>"
      ]
    },
    {
      "cell_type": "markdown",
      "source": [
        "# Entrega 1 - Análise Preliminar Ibovespa"
      ],
      "metadata": {
        "id": "PixsbUdKDA4s"
      }
    },
    {
      "cell_type": "markdown",
      "source": [
        "#### pip install"
      ],
      "metadata": {
        "id": "un-2oV-yQK1t"
      }
    },
    {
      "cell_type": "code",
      "source": [
        "!pip install -q plotly"
      ],
      "metadata": {
        "id": "YylnZYnnA7i9"
      },
      "execution_count": null,
      "outputs": []
    },
    {
      "cell_type": "code",
      "source": [
        "!pip install -q yfinance"
      ],
      "metadata": {
        "id": "vEilWPEnQOsP"
      },
      "execution_count": null,
      "outputs": []
    },
    {
      "cell_type": "markdown",
      "source": [
        "##### Instalação da Biblioteca Kora, que possibilita utilizar o Selenium de forma simplificada no Google Colab. [Link para acesso ao repositório](https://github.com/korakot/kora/blob/master/kora/selenium.py)"
      ],
      "metadata": {
        "id": "HdkQeg11RGq8"
      }
    },
    {
      "cell_type": "code",
      "source": [
        "!pip install -q kora"
      ],
      "metadata": {
        "id": "Q89Rmmc6QRVO"
      },
      "execution_count": null,
      "outputs": []
    },
    {
      "cell_type": "markdown",
      "source": [
        "##Importanto as Bibliotecas"
      ],
      "metadata": {
        "id": "GAFgw4aVKPvk"
      }
    },
    {
      "cell_type": "code",
      "source": [
        "from kora.selenium import wd\n",
        "from time import sleep\n",
        "\n",
        "import pandas as pd\n",
        "import matplotlib.pyplot as plt\n",
        "import numpy as np\n",
        "import seaborn as sns\n",
        "import yfinance as yf\n",
        "import plotly.graph_objs as go\n",
        "\n",
        "import os\n",
        "\n",
        "import requests\n",
        "from bs4 import BeautifulSoup\n",
        "\n",
        "from google.colab import files\n",
        "import warnings\n",
        "warnings.filterwarnings('ignore')"
      ],
      "metadata": {
        "id": "IbXoMV5ODVKc"
      },
      "execution_count": null,
      "outputs": []
    },
    {
      "cell_type": "markdown",
      "source": [
        "## Webcrawling Carteira Ibovespa -16/02/2021"
      ],
      "metadata": {
        "id": "871qA3m6KVJx"
      }
    },
    {
      "cell_type": "code",
      "source": [
        "def carteira_teorica(indice):\n",
        "  url = 'https://sistemaswebb3-listados.b3.com.br/indexPage/day/{}?language=pt-br'.format(indice.upper())\n",
        "  wd.get(url)\n",
        "  sleep(5)\n",
        "\n",
        "  wd.find_element_by_id('segment').send_keys(\"Setor de Atuação\")\n",
        "  sleep(5)\n",
        "\n",
        "  wd.find_element_by_link_text(\"Download\").click()\n",
        "  sleep(5)\n",
        "\n",
        "  arquivo = !ls -1t *.csv\n",
        "    \n",
        "  return pd.read_csv(arquivo[0],sep=';',encoding='ISO-8859-1',engine='python',thousands='.', decimal=',', header= 1, index_col= False)"
      ],
      "metadata": {
        "id": "8EF5FE-BKgV2"
      },
      "execution_count": null,
      "outputs": []
    },
    {
      "cell_type": "code",
      "source": [
        "ibov = carteira_teorica('ibov').iloc[:-2]"
      ],
      "metadata": {
        "id": "hbqLzNaSKrz2"
      },
      "execution_count": null,
      "outputs": []
    },
    {
      "cell_type": "code",
      "source": [
        "#Obtendo do arquivo recém baixado e incorporando sua data de referência em uma coluna\n",
        "\n",
        "arquivo = !ls -1t *.csv\n",
        "arquivo_middle = arquivo[0].split('_')[1]\n",
        "arquivo_date = arquivo_middle.split('.')[0]\n",
        "\n",
        "ibov['Data Carteira'] = arquivo_date\n",
        "ibov['Data Carteira'] = pd.to_datetime(ibov['Data Carteira'], errors='coerce')\n",
        "ibov"
      ],
      "metadata": {
        "id": "z7t2jorrktLl"
      },
      "execution_count": null,
      "outputs": []
    },
    {
      "cell_type": "code",
      "source": [
        "ibov.info()"
      ],
      "metadata": {
        "id": "MPQkfD5put08"
      },
      "execution_count": null,
      "outputs": []
    },
    {
      "cell_type": "code",
      "source": [
        "ibov.isna().sum()"
      ],
      "metadata": {
        "id": "KF_b1uEu0st1"
      },
      "execution_count": null,
      "outputs": []
    },
    {
      "cell_type": "code",
      "source": [
        "ativos_setor = ibov['Setor'].groupby(ibov['Setor']).count().sort_values(ascending=False)\n",
        "ativos_setor = pd.DataFrame(ativos_setor).rename(columns={\"Setor\":\"Nº de Ativos\"})\n",
        "ativos_setor = pd.merge(ativos_setor,ibov, how='left',on=['Setor']).drop_duplicates(subset=['Setor'])[['Setor','Nº de Ativos','Part. (%)Acum.']]\n",
        "ativos_setor = ativos_setor.set_index('Setor')\n",
        "ativos_setor"
      ],
      "metadata": {
        "id": "pj4DgJGQTbp9"
      },
      "execution_count": null,
      "outputs": []
    },
    {
      "cell_type": "code",
      "source": [
        "y= ativos_setor['Nº de Ativos']\n",
        "x = ativos_setor.index\n",
        "\n",
        "fig = go.Figure(data=[go.Bar(x = x,\n",
        "             y=y,\n",
        "            text=y,\n",
        "            textposition='auto',\n",
        "            marker_color = 'blue'\n",
        "        )])\n",
        "fig.update_layout(height=500, width=1800,title_text='Nº de Ativos por Setor')\n",
        "fig.show()"
      ],
      "metadata": {
        "id": "BWnj7_dx1FuR"
      },
      "execution_count": null,
      "outputs": []
    },
    {
      "cell_type": "code",
      "source": [
        "y= ativos_setor['Part. (%)Acum.'].sort_values(ascending= False)\n",
        "x = ativos_setor.index\n",
        "\n",
        "fig = go.Figure(data=[go.Bar(x = x,\n",
        "             y=y,\n",
        "            text=y,\n",
        "            textposition='auto',\n",
        "            marker_color = 'red'\n",
        "        )])\n",
        "fig.update_layout(height=500, width=1800,title_text='Participação % por Setor')\n",
        "fig.show()"
      ],
      "metadata": {
        "id": "ylP-5ziYnlOK"
      },
      "execution_count": null,
      "outputs": []
    },
    {
      "cell_type": "markdown",
      "source": [
        "## Webscraping Dados Fundamentalistas das Ações  do Ibovespa"
      ],
      "metadata": {
        "id": "GPT5K8aynzdT"
      }
    },
    {
      "cell_type": "markdown",
      "source": [
        "##### O site utilizado como fonte é o Fundamentus. [Link do site](http://www.fundamentus.com.br/resultado.php)"
      ],
      "metadata": {
        "id": "ajlfEFOsp2D9"
      }
    },
    {
      "cell_type": "code",
      "source": [
        "url = 'http://www.fundamentus.com.br/resultado.php'"
      ],
      "metadata": {
        "id": "TJQKoOeWn7pT"
      },
      "execution_count": null,
      "outputs": []
    },
    {
      "cell_type": "code",
      "source": [
        "header = {\n",
        "  \"User-Agent\": \"Mozilla/5.0 (Windows NT 10.0; Win64; x64) AppleWebKit/537.36 (KHTML, like Gecko) Chrome/84.0.4147.89 Safari/537.36\"  \n",
        " }\n",
        "\n",
        "r = requests.get(url, headers=header)"
      ],
      "metadata": {
        "id": "UdtklPyzorgt"
      },
      "execution_count": null,
      "outputs": []
    },
    {
      "cell_type": "code",
      "source": [
        "df_fund = pd.read_html(r.text,  decimal=',', thousands='.')[0]\n",
        "df_fund = df_fund.rename(columns={\"Papel\":\"Código\"})"
      ],
      "metadata": {
        "id": "mTyLCvYuo67c"
      },
      "execution_count": null,
      "outputs": []
    },
    {
      "cell_type": "code",
      "source": [
        "for coluna in ['Div.Yield', 'Mrg Ebit', 'Mrg. Líq.', 'ROIC', 'ROE', 'Cresc. Rec.5a']:\n",
        "  df_fund[coluna] = df_fund[coluna].str.replace('.', '')\n",
        "  df_fund[coluna] = df_fund[coluna].str.replace(',', '.')\n",
        "  df_fund[coluna] = df_fund[coluna].str.rstrip('%').astype('float') / 100"
      ],
      "metadata": {
        "id": "SR1u_VaPpVFV"
      },
      "execution_count": null,
      "outputs": []
    },
    {
      "cell_type": "code",
      "source": [
        "df_fund"
      ],
      "metadata": {
        "id": "LerF3BLzpZ38"
      },
      "execution_count": null,
      "outputs": []
    },
    {
      "cell_type": "markdown",
      "source": [
        "## Cruzando a Carteira do Ibovespa com os Indicadores Fundamentalistas"
      ],
      "metadata": {
        "id": "V4dq80v3roWC"
      }
    },
    {
      "cell_type": "code",
      "source": [
        "ibov_fund = pd.merge(ibov,df_fund, how='left',on=['Código']).sort_values(by='P/L', ascending = True).reset_index().iloc[:,1:]\n",
        "ibov_fund"
      ],
      "metadata": {
        "id": "fqLDROprrxJp"
      },
      "execution_count": null,
      "outputs": []
    },
    {
      "cell_type": "code",
      "source": [
        "ibov_fund.isna().sum()"
      ],
      "metadata": {
        "id": "DqiLqmcws3Uc"
      },
      "execution_count": null,
      "outputs": []
    },
    {
      "cell_type": "code",
      "source": [
        "ibov_fund.to_excel('Ibov+Fundamentos_17_02.xlsx')"
      ],
      "metadata": {
        "id": "61Yut4JJtHQi"
      },
      "execution_count": null,
      "outputs": []
    },
    {
      "cell_type": "code",
      "source": [
        "#Download na máquina local\n",
        "\n",
        "arquivo = !ls -1t *.xlsx\n",
        "files.download(arquivo[0])"
      ],
      "metadata": {
        "id": "2MwJTxN---_N"
      },
      "execution_count": null,
      "outputs": []
    },
    {
      "cell_type": "markdown",
      "source": [
        "#### Ler arquivo .xlsx caso precise"
      ],
      "metadata": {
        "id": "leOk52T4j9YL"
      }
    },
    {
      "cell_type": "code",
      "source": [
        "ibov_fund = pd.read_excel('/content/Ibov+Fundamentos.xlsx').iloc[:,1:]\n",
        "ibov_fund"
      ],
      "metadata": {
        "id": "PgrwZMQZg4f4"
      },
      "execution_count": null,
      "outputs": []
    },
    {
      "cell_type": "markdown",
      "source": [
        "## Obtenção dados CVM - Companhias Abertas"
      ],
      "metadata": {
        "id": "BChO700MiTKY"
      }
    },
    {
      "cell_type": "code",
      "source": [
        "r_cvm = requests.get('http://dados.cvm.gov.br/dados/CIA_ABERTA/CAD/DADOS/cad_cia_aberta.csv')\n",
        "\n",
        "rows = [i.strip().split(';') for i in r_cvm.text.split('\\n')]\n",
        "df_cvm = pd.DataFrame(rows[1:], columns=rows[0])[:-1]\n",
        "df_cvm"
      ],
      "metadata": {
        "id": "YZ_cK0u_idY4"
      },
      "execution_count": null,
      "outputs": []
    },
    {
      "cell_type": "code",
      "source": [
        "df_cvm.tail(3)"
      ],
      "metadata": {
        "id": "QlQBeupckbI9"
      },
      "execution_count": null,
      "outputs": []
    },
    {
      "cell_type": "code",
      "source": [
        "df_cvm['DT_REG'] = pd.to_datetime(df_cvm['DT_REG'], errors='coerce')"
      ],
      "metadata": {
        "id": "3GeIPJ4Gl5N4"
      },
      "execution_count": null,
      "outputs": []
    },
    {
      "cell_type": "code",
      "source": [
        "df_cvm.info()"
      ],
      "metadata": {
        "id": "q1UpG5wbl0On"
      },
      "execution_count": null,
      "outputs": []
    },
    {
      "cell_type": "markdown",
      "source": [
        "## Cruzamento de bases Ibovespa+Fundamentos e CVM"
      ],
      "metadata": {
        "id": "J-Y-pJmklb5V"
      }
    },
    {
      "cell_type": "markdown",
      "source": [
        "### Webscraping Infomoney (busca por CNPJ como chave única entre as bases do IBOV+Fundamentos e CVM)"
      ],
      "metadata": {
        "id": "xUfHDXprif-4"
      }
    },
    {
      "cell_type": "code",
      "source": [
        "url2 = 'https://www.infomoney.com.br/minhas-financas/confira-o-cnpj-das-acoes-negociadas-em-bolsa-e-saiba-como-declarar-no-imposto-de-renda/'\n",
        "response2 = requests.get(url2)\n",
        "\n",
        "html2 = BeautifulSoup(response2.text, \"html.parser\")\n",
        "html2.find_all('table')"
      ],
      "metadata": {
        "id": "2p0yCpcarBjS"
      },
      "execution_count": null,
      "outputs": []
    },
    {
      "cell_type": "code",
      "source": [
        "infomoney = pd.read_html(response2.text,header=0)[0]\n",
        "infomoney"
      ],
      "metadata": {
        "id": "XUu3e5ujr_Yl"
      },
      "execution_count": null,
      "outputs": []
    },
    {
      "cell_type": "code",
      "source": [
        "infomoney.to_excel('cnpj_infomoney.xlsx')"
      ],
      "metadata": {
        "id": "eA1MNkVvjI72"
      },
      "execution_count": null,
      "outputs": []
    },
    {
      "cell_type": "code",
      "source": [
        "#Download na máquina local\n",
        "\n",
        "arquivo = !ls -1t *.xlsx\n",
        "files.download(arquivo[0])"
      ],
      "metadata": {
        "id": "JVBM9Tzhkb4O"
      },
      "execution_count": null,
      "outputs": []
    },
    {
      "cell_type": "code",
      "source": [
        "infomoney = pd.read_excel('cnpj_infomoney.xlsx').iloc[:,1:]\n",
        "infomoney"
      ],
      "metadata": {
        "id": "N3ENVU49rLLl"
      },
      "execution_count": null,
      "outputs": []
    },
    {
      "cell_type": "code",
      "source": [
        "infomoney = infomoney.rename(columns={\"Nome de pregão\":\"Ação\"})"
      ],
      "metadata": {
        "id": "FD4cWcFekhlB"
      },
      "execution_count": null,
      "outputs": []
    },
    {
      "cell_type": "code",
      "source": [
        "ibov_fund_infomoney = pd.merge(ibov_fund, infomoney, how='left',on=['Ação']).reset_index().iloc[:,1:]\n",
        "ibov_fund_infomoney"
      ],
      "metadata": {
        "id": "lDmAkp6Smbnl"
      },
      "execution_count": null,
      "outputs": []
    },
    {
      "cell_type": "code",
      "source": [
        "ibov_fund_infomoney.isna().sum()"
      ],
      "metadata": {
        "id": "Vxlz8tOYluj0"
      },
      "execution_count": null,
      "outputs": []
    },
    {
      "cell_type": "code",
      "source": [
        "filtro_nan= ibov_fund_infomoney[ibov_fund_infomoney['CNPJ'].isnull()]\n",
        "filtro_nan"
      ],
      "metadata": {
        "id": "QkP2RpLVl8U7"
      },
      "execution_count": null,
      "outputs": []
    },
    {
      "cell_type": "code",
      "source": [
        "ibov_fund_infomoney['CNPJ'] = ibov_fund_infomoney['CNPJ'].str.replace('.', '')\n",
        "ibov_fund_infomoney['CNPJ'] = ibov_fund_infomoney['CNPJ'].str.replace('/', '')\n",
        "ibov_fund_infomoney['CNPJ'] = ibov_fund_infomoney['CNPJ'].str.replace('-', '')\n",
        "ibov_fund_infomoney['CNPJ'] = ibov_fund_infomoney['CNPJ'].astype(int)\n",
        "ibov_fund_infomoney"
      ],
      "metadata": {
        "id": "zNLx6Jsmsltb"
      },
      "execution_count": null,
      "outputs": []
    },
    {
      "cell_type": "code",
      "source": [
        "df_cvm = df_cvm.rename(columns={\"CNPJ_CIA\":\"CNPJ\"})\n",
        "df_cvm['CNPJ'] = df_cvm['CNPJ'].str.replace('.', '')\n",
        "df_cvm['CNPJ'] = df_cvm['CNPJ'].str.replace('/', '')\n",
        "df_cvm['CNPJ'] = df_cvm['CNPJ'].str.replace('-','')\n",
        "df_cvm['CNPJ'] = df_cvm['CNPJ'].astype(int)\n",
        "df_cvm"
      ],
      "metadata": {
        "id": "Twh_20tXyDOQ"
      },
      "execution_count": null,
      "outputs": []
    },
    {
      "cell_type": "code",
      "source": [
        "ibov_fund_cvm =  pd.merge(ibov_fund_infomoney,df_cvm, how='left',on=['CNPJ']).sort_values(by='P/L', ascending = True).reset_index().iloc[:,1:]\n",
        "ibov_fund_cvm"
      ],
      "metadata": {
        "id": "hWDKLJ7j2JfR"
      },
      "execution_count": null,
      "outputs": []
    },
    {
      "cell_type": "code",
      "source": [
        "filtro_nan2= ibov_fund_cvm[ibov_fund_cvm['CNPJ'].isnull()]\n",
        "filtro_nan2"
      ],
      "metadata": {
        "id": "H-UJtME92eom"
      },
      "execution_count": null,
      "outputs": []
    },
    {
      "cell_type": "code",
      "source": [
        "ibov_fund_cvm.columns"
      ],
      "metadata": {
        "id": "B7bVAucb2suo"
      },
      "execution_count": null,
      "outputs": []
    },
    {
      "cell_type": "code",
      "source": [
        "ibov_fund_cvm = ibov_fund_cvm[['Setor', 'Código', 'Ação', 'Tipo', 'Qtde. Teórica', 'Part. (%)',\n",
        "       'Part. (%)Acum.', 'Data Carteira', 'DT_REG', 'Cotação', 'P/L', 'P/VP', 'PSR',\n",
        "       'Div.Yield', 'P/Ativo', 'P/Cap.Giro', 'P/EBIT', 'P/Ativ Circ.Liq',\n",
        "       'EV/EBIT', 'EV/EBITDA', 'Mrg Ebit', 'Mrg. Líq.', 'Liq. Corr.', 'ROIC',\n",
        "       'ROE', 'Liq.2meses', 'Patrim. Líq', 'Dív.Brut/ Patrim.',\n",
        "       'Cresc. Rec.5a']]\n",
        "\n",
        "ibov_fund_cvm"
      ],
      "metadata": {
        "id": "xkO8j6yA3W6A"
      },
      "execution_count": null,
      "outputs": []
    },
    {
      "cell_type": "code",
      "source": [
        "ibov_fund_cvm['DT_REG'] = pd.to_datetime(ibov_fund_cvm['DT_REG'], errors='coerce')\n",
        "ibov_fund_cvm.info()"
      ],
      "metadata": {
        "id": "jCqDdId_39Vx"
      },
      "execution_count": null,
      "outputs": []
    },
    {
      "cell_type": "code",
      "source": [
        "ibov_fund_cvm = ibov_fund_cvm.rename(columns={\"DT_REG\":\"Data Referência IPO\"})\n",
        "ibov_fund_cvm.to_excel('Base_Ibov_final.xlsx')"
      ],
      "metadata": {
        "id": "_b34b_B-4ccM"
      },
      "execution_count": null,
      "outputs": []
    },
    {
      "cell_type": "code",
      "source": [
        "#Download na máquina local\n",
        "\n",
        "arquivo = !ls -1t *.xlsx\n",
        "files.download(arquivo[0])"
      ],
      "metadata": {
        "id": "qJ73Qoy34z3d"
      },
      "execution_count": null,
      "outputs": []
    }
  ]
}